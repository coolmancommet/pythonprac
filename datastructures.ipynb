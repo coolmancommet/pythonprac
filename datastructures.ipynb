{
  "nbformat": 4,
  "nbformat_minor": 0,
  "metadata": {
    "colab": {
      "name": "datastructures.ipynb",
      "provenance": [],
      "authorship_tag": "ABX9TyNZYqQkkufhcS4hTGrey/7D",
      "include_colab_link": true
    },
    "kernelspec": {
      "name": "python3",
      "display_name": "Python 3"
    }
  },
  "cells": [
    {
      "cell_type": "markdown",
      "metadata": {
        "id": "view-in-github",
        "colab_type": "text"
      },
      "source": [
        "<a href=\"https://colab.research.google.com/github/coolmancommet/pythonprac/blob/master/datastructures.ipynb\" target=\"_parent\"><img src=\"https://colab.research.google.com/assets/colab-badge.svg\" alt=\"Open In Colab\"/></a>"
      ]
    },
    {
      "cell_type": "markdown",
      "metadata": {
        "id": "x94W-RODLVz0"
      },
      "source": [
        "#binary trees\n",
        "\n",
        "insertion in binary trees\n"
      ]
    },
    {
      "cell_type": "code",
      "metadata": {
        "id": "B-bufUjFLRIY",
        "outputId": "f85001c9-507d-4889-ae27-722d8921615c",
        "colab": {
          "base_uri": "https://localhost:8080/",
          "height": 53
        }
      },
      "source": [
        "class tee():\n",
        "  def __init__(self,data):\n",
        "    self.left=None\n",
        "    self.right=None\n",
        "    self.key=data\n",
        "  def insert(self,dada):\n",
        "    q=[]\n",
        "    q.append(self)\n",
        "    while(len(q)):\n",
        "      temp=q.pop(0)\n",
        "      if temp.left==None:\n",
        "        temp.left=tee(dada)\n",
        "        break\n",
        "      else:\n",
        "        q.append(temp.left)\n",
        "      if temp.right==None:\n",
        "        temp.right=tee(dada)\n",
        "        break\n",
        "      else:\n",
        "        q.append(temp.right)\n",
        "      \n",
        "def inorder(temp):\n",
        " \n",
        "    if (not temp):\n",
        "        return\n",
        " \n",
        "    inorder(temp.left) \n",
        "    print(temp.key,end = \" \")\n",
        "    inorder(temp.right) \n",
        "def preorder(temp):\n",
        " \n",
        "    if (not temp):\n",
        "        return\n",
        " \n",
        "    \n",
        "    print(temp.key,end = \" \")\n",
        "    preorder(temp.left) \n",
        "    preorder(temp.right) \n",
        "if __name__==\"__main__\":\n",
        "  root=tee(1)\n",
        "  root.insert(2)\n",
        "  root.insert(3)\n",
        "  root.insert(4)\n",
        "  root.insert(5)\n",
        "  root.insert(6)\n",
        "  inorder(root)\n",
        "  print()\n",
        "  preorder(root)"
      ],
      "execution_count": null,
      "outputs": [
        {
          "output_type": "stream",
          "text": [
            "4 2 5 1 6 3 \n",
            "1 2 4 5 3 6 "
          ],
          "name": "stdout"
        }
      ]
    },
    {
      "cell_type": "markdown",
      "metadata": {
        "id": "66iu7PFLLU5O"
      },
      "source": [
        "deletion fron binary tres"
      ]
    },
    {
      "cell_type": "code",
      "metadata": {
        "id": "zQ7N7H03mIbi"
      },
      "source": [
        ""
      ],
      "execution_count": null,
      "outputs": []
    },
    {
      "cell_type": "markdown",
      "metadata": {
        "id": "mNBmS5mo0qVl"
      },
      "source": [
        "#BINARY SEARCH TREE\n"
      ]
    },
    {
      "cell_type": "code",
      "metadata": {
        "id": "qTyz8WLg0uzJ",
        "outputId": "0e0fc656-252c-456b-ae96-a34dca5dcf16",
        "colab": {
          "base_uri": "https://localhost:8080/",
          "height": 90
        }
      },
      "source": [
        "class bfs():\n",
        "  def __init__(self,data):\n",
        "    self.left=None\n",
        "    self.right=None\n",
        "    self.data=data\n",
        "def insert(root,key):  \n",
        "    if root is None:  \n",
        "        return bfs(key)  \n",
        "    else: \n",
        "        if root.data == key: \n",
        "            return root \n",
        "        elif root.data < key:  \n",
        "            root.right = insert(root.right, key)  \n",
        "        else: \n",
        "            root.left = insert(root.left, key) \n",
        "    return root \n",
        "def printt(root):\n",
        "  if (root==None):\n",
        "    return\n",
        "  printt(root.left)\n",
        "  print(root.data)\n",
        "  printt(root.right) \n",
        "root=bfs(1)\n",
        "insert(root,2)\n",
        "insert(root,-1)\n",
        "insert(root,12)\n",
        "printt(root)"
      ],
      "execution_count": null,
      "outputs": [
        {
          "output_type": "stream",
          "text": [
            "-1\n",
            "1\n",
            "2\n",
            "12\n"
          ],
          "name": "stdout"
        }
      ]
    },
    {
      "cell_type": "markdown",
      "metadata": {
        "id": "qfsQa8gymKQp"
      },
      "source": [
        "# link list \n"
      ]
    },
    {
      "cell_type": "code",
      "metadata": {
        "id": "DeUdnH0jmLhS",
        "outputId": "1bfa08a1-afda-4eba-9067-d7b8c7fdf637",
        "colab": {
          "base_uri": "https://localhost:8080/",
          "height": 35
        }
      },
      "source": [
        "class link():\n",
        "  def __init__(self,data):\n",
        "    self.key=data\n",
        "    self.next=None\n",
        "  def insert(self,data):\n",
        "    if (self.next==None):\n",
        "      self.next=link(data)\n",
        "    else:\n",
        "      self.next.insert(data)\n",
        "  def printli(self):\n",
        "    if self.next==None:\n",
        "      print(self.key,\"|||\")\n",
        "      return\n",
        "    print(self.key,\"-->\",end=\"\")\n",
        "    self.next.printli()\n",
        "li=link(1)\n",
        "li.insert(2)\n",
        "li.insert(5)\n",
        "li.insert(4)\n",
        "li.insert(6)\n",
        "li.printli()"
      ],
      "execution_count": null,
      "outputs": [
        {
          "output_type": "stream",
          "text": [
            "1 -->2 -->5 -->4 -->6 |||\n"
          ],
          "name": "stdout"
        }
      ]
    },
    {
      "cell_type": "markdown",
      "metadata": {
        "id": "tCAYEGSurtpz"
      },
      "source": [
        "### circular link list"
      ]
    },
    {
      "cell_type": "code",
      "metadata": {
        "id": "_x61XCFtrvbP",
        "outputId": "2c12b30a-76b8-4f41-b069-d9192fe2409b",
        "colab": {
          "base_uri": "https://localhost:8080/",
          "height": 144
        }
      },
      "source": [
        "class cll():\n",
        "  def __init__(self,data):\n",
        "    self.data=data\n",
        "    self.next=None\n",
        "  def insert(self,data):\n",
        "    if self.next==None:\n",
        "      self.next=cll(data)\n",
        "      self.next.next=self\n",
        "      return\n",
        "    head=self\n",
        "    temp=self.next\n",
        "    while temp.next!=head:\n",
        "      temp=temp.next\n",
        "    temp.next=cll(data)\n",
        "    temp.next.next=head\n",
        "  def pp(self):\n",
        "    temp=self\n",
        "    hex=self.next\n",
        "    print(temp.data,\"_-_->>\")\n",
        "    while hex!=temp:\n",
        "      print(hex.data,\"_-_->>\")\n",
        "      hex=hex.next\n",
        "    print(hex.data,\">>>>>>\")\n",
        "root=cll(1)\n",
        "root.insert(2)\n",
        "root.insert(3)\n",
        "root.insert(4)\n",
        "root.insert(5)\n",
        "root.insert(6)\n",
        "root.pp()\n",
        "\n"
      ],
      "execution_count": null,
      "outputs": [
        {
          "output_type": "stream",
          "text": [
            "1 _-_->>\n",
            "2 _-_->>\n",
            "3 _-_->>\n",
            "4 _-_->>\n",
            "5 _-_->>\n",
            "6 _-_->>\n",
            "1 >>>>>>\n"
          ],
          "name": "stdout"
        }
      ]
    },
    {
      "cell_type": "code",
      "metadata": {
        "id": "1i0wkyANpZKc"
      },
      "source": [
        ""
      ],
      "execution_count": null,
      "outputs": []
    },
    {
      "cell_type": "markdown",
      "metadata": {
        "id": "ZgW1clBcYWts"
      },
      "source": [
        "#GRAPHS"
      ]
    },
    {
      "cell_type": "code",
      "metadata": {
        "id": "k2FkKQ0ka7vD"
      },
      "source": [
        "from collections import defaultdict\n"
      ],
      "execution_count": null,
      "outputs": []
    },
    {
      "cell_type": "markdown",
      "metadata": {
        "id": "4jcG5uqsYbWT"
      },
      "source": [
        "#STACK"
      ]
    },
    {
      "cell_type": "code",
      "metadata": {
        "id": "WxLrU4RXwLZi",
        "outputId": "b2a2ff45-4154-41d4-8339-e9587b8cd0ce",
        "colab": {
          "base_uri": "https://localhost:8080/",
          "height": 53
        }
      },
      "source": [
        "class stack():\n",
        "  def __init__(self,data):\n",
        "    self.data=data\n",
        "    self.next=None\n",
        "  def insert(self,data):\n",
        "    node=stack(data)\n",
        "    node.next=self\n",
        "    self=node\n",
        "    return self\n",
        "  def pop(self):\n",
        "    temp=self.data\n",
        "    print(temp)\n",
        "    self=self.next\n",
        "    return self,temp\n",
        "start=stack(1)\n",
        "start=start.insert(2)\n",
        "start=start.insert(3)\n",
        "start=start.insert(4)\n",
        "start,temp=start.pop()\n",
        "start,temp=start.pop()"
      ],
      "execution_count": 2,
      "outputs": [
        {
          "output_type": "stream",
          "text": [
            "4\n",
            "3\n"
          ],
          "name": "stdout"
        }
      ]
    },
    {
      "cell_type": "markdown",
      "metadata": {
        "id": "7mMjKOkDYdzs"
      },
      "source": [
        "#HEAP"
      ]
    },
    {
      "cell_type": "markdown",
      "metadata": {
        "id": "fCYhMPyoYiaY"
      },
      "source": [
        "#QUEUE"
      ]
    },
    {
      "cell_type": "code",
      "metadata": {
        "id": "fGvwFrjf9oqw",
        "outputId": "1f6a6ff9-df2a-45f5-be6c-736926462cfc",
        "colab": {
          "base_uri": "https://localhost:8080/",
          "height": 53
        }
      },
      "source": [
        "class queue():\n",
        "  def __init__(self,data):\n",
        "    self.data=data\n",
        "    self.next=None\n",
        "  def insert(self,data):\n",
        "    node = queue(data)\n",
        "    node.next=self\n",
        "    self=node\n",
        "    return self\n",
        "  def delete(self):\n",
        "    if self.next.next==None:\n",
        "      print(self.next.data)\n",
        "      self.next=None\n",
        "      return\n",
        "    else:\n",
        "      self.next.delete()\n",
        "qq=queue(1)\n",
        "qq=qq.insert(2)\n",
        "qq=qq.insert(3)\n",
        "qq=qq.insert(4)\n",
        "qq=qq.insert(5)\n",
        "qq=qq.insert(6)\n",
        "qq=qq.insert(7)\n",
        "qq.delete()\n",
        "qq.delete()"
      ],
      "execution_count": 5,
      "outputs": [
        {
          "output_type": "stream",
          "text": [
            "1\n",
            "2\n"
          ],
          "name": "stdout"
        }
      ]
    }
  ]
}